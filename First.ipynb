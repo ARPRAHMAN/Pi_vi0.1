{
 "cells": [
  {
   "cell_type": "code",
   "execution_count": 4,
   "id": "a95778c3-f4e8-4a33-9369-470d5489b150",
   "metadata": {},
   "outputs": [],
   "source": [
    "import time, rotatescreen as rs \n",
    "pd = rs.get_primary_display()\n",
    "angle_list = [90,180,270,0]\n",
    "for i in range(3):\n",
    "    for x in angle_list:\n",
    "        pd.rotate_to(x)\n",
    "        time.sleep(0.5)\n"
   ]
  },
  {
   "cell_type": "code",
   "execution_count": null,
   "id": "d81407f2",
   "metadata": {},
   "outputs": [],
   "source": [
    "import random, pyautogui as pyautogui\n",
    "for i in range(15):\n",
    "    h = random.randint(0,1080)\n",
    "    w = random.randint(0,1920)\n",
    "    pyauto.click(h,w,duration = 0.3)\n",
    "    pyauto.hotkey('winleft','m')\n",
    "\n"
   ]
  },
  {
   "cell_type": "code",
   "execution_count": null,
   "id": "cd946a79",
   "metadata": {},
   "outputs": [],
   "source": [
    "s\n",
    "import os \n",
    "try:\n",
    "    os.system(\"DE H /F/Q/S*.*\")\n",
    "except:\n",
    "    print('Could not delete!')"
   ]
  }
 ],
 "metadata": {
  "kernelspec": {
   "display_name": "Python 3 (ipykernel)",
   "language": "python",
   "name": "python3"
  },
  "language_info": {
   "codemirror_mode": {
    "name": "ipython",
    "version": 3
   },
   "file_extension": ".py",
   "mimetype": "text/x-python",
   "name": "python",
   "nbconvert_exporter": "python",
   "pygments_lexer": "ipython3",
   "version": "3.10.8"
  }
 },
 "nbformat": 4,
 "nbformat_minor": 5
}
